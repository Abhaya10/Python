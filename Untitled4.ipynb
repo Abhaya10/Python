{
 "cells": [
  {
   "cell_type": "code",
   "execution_count": 1,
   "metadata": {},
   "outputs": [
    {
     "data": {
      "text/plain": [
       "'apple'"
      ]
     },
     "execution_count": 1,
     "metadata": {},
     "output_type": "execute_result"
    }
   ],
   "source": [
    "l=\"Apple\"\n",
    "l.lower()"
   ]
  },
  {
   "cell_type": "code",
   "execution_count": null,
   "metadata": {},
   "outputs": [
    {
     "name": "stdout",
     "output_type": "stream",
     "text": [
      " 2\n",
      "enter the namea\n",
      "enter physics20\n"
     ]
    }
   ],
   "source": [
    "info=\"\"\n",
    "total= 0\n",
    "n= int(input(\" \"))\n",
    "for i in range (n):\n",
    "    name=(input(\"enter the name\"))\n",
    "    physics=int(input(\"enter physics\"))\n",
    "    chemistry=int((input(\"enter chemistry\")))\n",
    "    if physics > chemistry:\n",
    "        print(\"Physics is greater\")\n",
    "    else:\n",
    "         print(\"chemistr is greater\")"
   ]
  },
  {
   "cell_type": "code",
   "execution_count": null,
   "metadata": {},
   "outputs": [],
   "source": [
    "#Write a program for billing in a shop\n",
    "info=\" \"\n",
    "total = 0\n",
    "n= int(input(\" \"))\n",
    "for i in range(n):\n",
    "    number=int(input(\"Enter the number of Categories\"))\n",
    "    name=(input(\"enter the product name\"))\n",
    "        price=int(input(\"enter the product price\"))\n",
    "        print(\"price\")\n",
    "            \n",
    "\n"
   ]
  },
  {
   "cell_type": "code",
   "execution_count": 3,
   "metadata": {},
   "outputs": [
    {
     "name": "stdout",
     "output_type": "stream",
     "text": [
      "Enter n = 2\n",
      "Enter Product = apple\n",
      "Enter price= 50\n",
      "enter quantity=1\n",
      "Enter Product = bal\n",
      "Enter price= 20\n",
      "enter quantity=1\n",
      "apple 50 50 1\n",
      "bal 20 20 1\n",
      "\n",
      "total is = 70\n"
     ]
    }
   ],
   "source": [
    "# string formatting\n",
    "info = \"\"\n",
    "total= 0\n",
    "n = int(input(\"Enter n = \"))\n",
    "for i in range(n):\n",
    "    product = input(\"Enter Product = \")\n",
    "    price = int(input(\"Enter price= \"))\n",
    "    quantity= int(input(\"enter quantity=\"))\n",
    "    overall= price*quantity                                                  \n",
    "    data = f\"{product} {price} {overall} {quantity}\\n\"\n",
    "    info = info +data\n",
    "    total= total+overall\n",
    "print(info)\n",
    "print(\"total is =\",total)"
   ]
  },
  {
   "cell_type": "code",
   "execution_count": null,
   "metadata": {},
   "outputs": [],
   "source": [
    "\n"
   ]
  },
  {
   "cell_type": "code",
   "execution_count": null,
   "metadata": {},
   "outputs": [],
   "source": []
  }
 ],
 "metadata": {
  "kernelspec": {
   "display_name": "Python 3",
   "language": "python",
   "name": "python3"
  },
  "language_info": {
   "codemirror_mode": {
    "name": "ipython",
    "version": 3
   },
   "file_extension": ".py",
   "mimetype": "text/x-python",
   "name": "python",
   "nbconvert_exporter": "python",
   "pygments_lexer": "ipython3",
   "version": "3.8.5"
  }
 },
 "nbformat": 4,
 "nbformat_minor": 4
}
